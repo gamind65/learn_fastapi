{
 "cells": [
  {
   "cell_type": "markdown",
   "metadata": {},
   "source": [
    "# Concurency and async / await \n",
    "by https://fastapi.tiangolo.com/async/"
   ]
  },
  {
   "cell_type": "markdown",
   "metadata": {},
   "source": [
    "### 1. Asynchronous (concurency) code "
   ]
  },
  {
   "cell_type": "markdown",
   "metadata": {},
   "source": [
    "Asynchronous code just means that the language has a way to tell the computer that at some point in the code, it will have to wait for something else to finish somewhere else.  \n",
    "  \n",
    "So, during that time, the computer can go and do some other work, while \"slow-file\" finishes.  \n",
    "  \n",
    "It's called \"asynchronous\" because the computer doesn't have to be \"synchronized\" with the slow task, waiting for the exact moment that the task finishes, while doing nothing, to be able to take the task result and continue the work."
   ]
  },
  {
   "cell_type": "markdown",
   "metadata": {},
   "source": [
    "This idea of asynchronous code described above is also sometimes called \"concurrency\". It is different from \"parallelism\".  \n",
    "  \n",
    "Concurrency and parallelism both relate to \"different things happening more or less at the same time\".  \n",
    "  \n",
    "But the details between concurrency and parallelism are quite different."
   ]
  },
  {
   "cell_type": "markdown",
   "metadata": {},
   "source": [
    "#### Is concurency > parallelism?  \n",
    "  \n",
    "Nope! That's not the moral of the story.  \n",
    "  \n",
    "Concurrency is different than parallelism. And it is better on specific scenarios that involve a lot of waiting. Because of that, it generally is a lot better than parallelism for web application development. But not for everything.  \n",
    "  \n",
    "So, to balance that out, imagine the following short story:  \n",
    "> You have to clean a big, dirty house.  \n",
    "\n",
    "Yep, that's the whole story."
   ]
  },
  {
   "cell_type": "markdown",
   "metadata": {},
   "source": [
    "## 2. Concurrency + Parallelism: Web + Machine Learning"
   ]
  },
  {
   "cell_type": "markdown",
   "metadata": {},
   "source": [
    "With FastAPI you can take the advantage of concurrency that is very common for web development (the same main attraction of NodeJS).  \n",
    "  \n",
    "But you can also exploit the benefits of parallelism and multiprocessing (having multiple processes running in parallel) for CPU bound workloads like those in Machine Learning systems.  \n",
    "  \n",
    "That, plus the simple fact that Python is the main language for Data Science, Machine Learning and especially Deep Learning, make FastAPI a very good match for Data Science / Machine Learning web APIs and applications (among many others).  "
   ]
  },
  {
   "cell_type": "markdown",
   "metadata": {},
   "source": [
    "## 3. async and await"
   ]
  },
  {
   "cell_type": "markdown",
   "metadata": {},
   "source": [
    "Modern versions of Python have a very intuitive way to define asynchronous code. This makes it look just like normal \"sequential\" code and do the \"awaiting\" for you at the right moments.\n",
    "\n",
    "When there is an operation that will require waiting before giving the results and has support for these new Python features, you can code it like:"
   ]
  },
  {
   "cell_type": "code",
   "execution_count": null,
   "metadata": {
    "vscode": {
     "languageId": "plaintext"
    }
   },
   "outputs": [],
   "source": [
    "burgers = await get_burgers(2)"
   ]
  },
  {
   "cell_type": "markdown",
   "metadata": {},
   "source": [
    "The key here is the ```await```. It tells Python that it has to **wait** for ```get_burgers(2)``` to finish doing its thing **before** storing the results in ```burgers```. With that, Python will know that it **can go and do something else** in the meanwhile *(like receiving another request)*.  \n",
    "  \n",
    "For `await` to work, it has to be **inside** a function that supports this asynchronicity. To do that, you just declare it with `async def`:"
   ]
  },
  {
   "cell_type": "code",
   "execution_count": null,
   "metadata": {
    "vscode": {
     "languageId": "plaintext"
    }
   },
   "outputs": [],
   "source": [
    "async def get_burgers(number: int):\n",
    "    # do some asynchronous stuff to create the burgers...\n",
    "    return burgers"
   ]
  },
  {
   "cell_type": "markdown",
   "metadata": {},
   "source": [
    "this is **not** asynchronous"
   ]
  },
  {
   "cell_type": "code",
   "execution_count": null,
   "metadata": {
    "vscode": {
     "languageId": "plaintext"
    }
   },
   "outputs": [],
   "source": [
    "def get_burgers(number: int):\n",
    "    # do some asynchronous stuff to create the burgers...\n",
    "    return burgers"
   ]
  },
  {
   "cell_type": "markdown",
   "metadata": {},
   "source": [
    "When you want to call an `async def` function, you have to `await` it. So, this won't work:"
   ]
  },
  {
   "cell_type": "code",
   "execution_count": null,
   "metadata": {
    "vscode": {
     "languageId": "plaintext"
    }
   },
   "outputs": [],
   "source": [
    "# This won't work, because get_burgers was defined with: async def\n",
    "burgers = get_burgers(2)"
   ]
  },
  {
   "cell_type": "markdown",
   "metadata": {},
   "source": [
    "So, if you are using a library that tells you that you can call it with `await`, you need to create the path operation functions that uses it with `async def`"
   ]
  },
  {
   "cell_type": "code",
   "execution_count": null,
   "metadata": {
    "vscode": {
     "languageId": "plaintext"
    }
   },
   "outputs": [],
   "source": [
    "@app.get('/burgers')\n",
    "async def read_burgers():\n",
    "    burgers = await get_burgers(2)\n",
    "    return burgers"
   ]
  },
  {
   "cell_type": "markdown",
   "metadata": {},
   "source": []
  }
 ],
 "metadata": {
  "language_info": {
   "name": "python"
  }
 },
 "nbformat": 4,
 "nbformat_minor": 2
}
